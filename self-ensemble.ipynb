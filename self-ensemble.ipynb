{
 "cells": [
  {
   "cell_type": "code",
   "execution_count": 75,
   "metadata": {},
   "outputs": [],
   "source": [
    "import sklearn\n",
    "import numpy as np\n",
    "import pandas as pd\n",
    "import matplotlib.pyplot as plt\n",
    "%matplotlib inline\n",
    "\n",
    "from sklearn.datasets import load_iris\n",
    "iris = load_iris() \n",
    "\n",
    "from sklearn.datasets import load_breast_cancer\n",
    "breast_cancer = load_breast_cancer() \n",
    "\n",
    "from sklearn.datasets import load_digits\n",
    "digits = load_digits() \n",
    "\n",
    "from sklearn.datasets import load_wine\n",
    "wine = load_wine() \n",
    "from sklearn.ensemble import VotingClassifier\n",
    "from sklearn.metrics import accuracy_score\n",
    "from sklearn.model_selection import train_test_split\n",
    "from sklearn.metrics import confusion_matrix,classification_report\n",
    "\n",
    "from sklearn.neural_network import MLPClassifier\n",
    "from sklearn import tree\n",
    "from sklearn.neighbors import KNeighborsClassifier\n",
    "from sklearn.naive_bayes import GaussianNB"
   ]
  },
  {
   "cell_type": "code",
   "execution_count": 62,
   "metadata": {},
   "outputs": [],
   "source": [
    "def dataset(dataset):\n",
    "    \n",
    "    data = dataset\n",
    "    x = data.data\n",
    "    y = data.target\n",
    "    z = data.target_names\n",
    "\n",
    "    return x,y,z"
   ]
  },
  {
   "cell_type": "code",
   "execution_count": 63,
   "metadata": {},
   "outputs": [],
   "source": [
    "def self_training(threshold,iteration,x_labled,x_unlabled,y_labled,y_unlabled,baseclasifier,y_train):\n",
    "    \n",
    "    true_label = y_train\n",
    "    clf1 = baseclasifier\n",
    "    x_labled = x_labled\n",
    "    x_unlabled = x_unlabled\n",
    "    y_labled = y_labled\n",
    "    y_unlabled = y_unlabled\n",
    "    threshold = threshold   #confidence\n",
    "    i = iteration\n",
    "    \n",
    "    while len(x_unlabled) > 0  :  \n",
    "\n",
    "        clf1.fit(x_labled, y_labled)\n",
    "        y_pred1 = clf1.predict(x_unlabled)\n",
    "\n",
    "        new_x_unlabled = np.empty((0,len(x_labled[0])),float)\n",
    "        new_y_unlabled = []\n",
    "        probability= np.empty((0,len(np.unique(y_labled))),float)\n",
    "        \n",
    "        for item in x_unlabled:\n",
    "\n",
    "            p = clf1.predict_proba(np.matrix(item))\n",
    "            p = p.astype(float)*100\n",
    "            s = np.argmax(p) #the most probable label\n",
    "            probability = np.append(probability,p,axis=0)\n",
    "            if p.max() >= threshold:\n",
    "\n",
    "\n",
    "                x_labled = np.append(x_labled,[item],axis=0)\n",
    "                y_labled = np.append(y_labled,s)\n",
    "\n",
    "            else:\n",
    "                \n",
    "                new_x_unlabled = np.append(new_x_unlabled,[item],axis=0)\n",
    "                new_y_unlabled = np.append(new_y_unlabled,s)\n",
    "        \n",
    "            x_unlabled = new_x_unlabled\n",
    "            y_unlabled = new_y_unlabled\n",
    "            \n",
    "        threshold = min(threshold,probability.max())\n",
    "        print('x_unlabled:',len(x_unlabled), 'in %d iteration ' %i,' and ','threshold: ',threshold,'\\n')\n",
    "        \n",
    "        i+=1\n",
    "    return x_labled,y_labled,i"
   ]
  },
  {
   "cell_type": "code",
   "execution_count": 64,
   "metadata": {},
   "outputs": [],
   "source": [
    "def testing_score(x_labled,y_labled,x_test,y_test,baseclasifier):\n",
    "    \n",
    "    x_lablel = x_labled\n",
    "    y_labled = y_labled\n",
    "    x_test = x_test\n",
    "    y_test = y_test\n",
    "    clf = baseclasifier\n",
    "    clf.fit(x_labled,y_labled)\n",
    "\n",
    "    y_pred = clf.predict(x_test)\n",
    "    score = accuracy_score(y_test,y_pred)\n",
    "    return score"
   ]
  },
  {
   "cell_type": "code",
   "execution_count": 65,
   "metadata": {},
   "outputs": [],
   "source": [
    "#accuracy of labeled data\n",
    "def transductive_score(x_train,y_train,new_x_labled,new_y_labled,target_names): \n",
    "    \n",
    "    x_true = x_train\n",
    "    y_true = y_train\n",
    "    class_names = str((target_names))\n",
    "    x_labled = new_x_labled\n",
    "    y_pred = new_y_labled\n",
    "\n",
    "    y_pred = np.reshape(y_pred,(len(y_pred),1))\n",
    "    new_dataset = np.hstack((x_labled,y_pred))\n",
    "    new_dataset_dF = pd.DataFrame(new_dataset)\n",
    "    l = new_dataset_dF.columns.values.tolist()\n",
    "    new_dataset_dF.sort_values(by=l,inplace=True)\n",
    "    N=new_dataset_dF.values\n",
    "    y= N[:,-1]\n",
    "    \n",
    "    y_train = np.reshape(y_train,(len(y_train),1))\n",
    "    dataset = np.hstack((x_train,y_train))\n",
    "    dataset_dF = pd.DataFrame(dataset)\n",
    "    dataset_dF.sort_values(by=l,inplace=True)\n",
    "    \n",
    "    M=dataset_dF.values\n",
    "    B= M[:,-1]\n",
    "\n",
    "    score = classification_report(B,y)\n",
    "    cm = confusion_matrix(B,y)\n",
    "\n",
    "    return score,cm    "
   ]
  },
  {
   "cell_type": "code",
   "execution_count": 66,
   "metadata": {},
   "outputs": [],
   "source": [
    "#choose classifier\n",
    "def clf(clf,x_labled,y_labled,x_unlabled):\n",
    "    \n",
    "    clf = clf()\n",
    "    x_lablel = x_labled\n",
    "    y_labled = y_labled\n",
    "    x_unlabled = x_unlabled\n",
    "\n",
    "    clf.fit(x_labled,y_labled)\n",
    "    y_pred = clf.predict(x_unlabled)\n",
    "    \n",
    "    return y_pred"
   ]
  },
  {
   "cell_type": "code",
   "execution_count": 67,
   "metadata": {},
   "outputs": [],
   "source": [
    "def self_ensemble(x_labled, x_unlabled, y_labled, y_unlabled, clf1,clf2,clf3):\n",
    "    \n",
    "    clf1 = clf1\n",
    "    clf2 = clf2\n",
    "    clf3 = clf3\n",
    "    x_labled = x_labled\n",
    "    y_labled = y_labled\n",
    "    x_unlabled = x_unlabled\n",
    "    y_unlabled = y_unlabled\n",
    "    \n",
    "    flag = 0\n",
    "#     while flag == 0 :  \n",
    "    while len(x_unlabled) != 0:\n",
    "        y_pred1 = clf(clf1,x_labled,y_labled,x_unlabled)\n",
    "        y_pred2 = clf(clf2,x_labled,y_labled,x_unlabled)\n",
    "        y_pred3 = clf(clf3,x_labled,y_labled,x_unlabled)\n",
    "        \n",
    "        m = np.zeros_like(y_pred1)\n",
    "        for i in range(len(y_pred1)):\n",
    "            if y_pred1[i] == y_pred2[i] == y_pred3[i]:\n",
    "                m[i] += 1\n",
    "                \n",
    "        for i in range(len(y_pred1)):\n",
    "            if y_pred1[i] == y_pred2[i] == y_pred3[i]:\n",
    "                \n",
    "                x_labled = np.append(x_labled,[x_unlabled[i]],axis=0)\n",
    "                y_labled = np.append(y_labled, y_pred1[i]) \n",
    "    \n",
    "                \n",
    "        n = []\n",
    "        for i in range(len(m)):\n",
    "            if m[i] == 1:\n",
    "                n = np.append(n,i)\n",
    "                n = n.astype(int)\n",
    "#         print(n)\n",
    "        \n",
    "        x_unlabled = np.delete(x_unlabled,n,axis=0) \n",
    "        y_unlabled = np.delete(y_unlabled,n,axis=0)\n",
    "        print('Classifiers agree about label for ',len(n),'unlabled data')\n",
    "    \n",
    "        print(len(x_unlabled),\"are still unlabled!\\n\")\n",
    "        \n",
    "        if(len(n) == 0):\n",
    "\n",
    "            print(\"\\nUsing VotingClassifier for \",len(x_unlabled),\"unlabled data\",\"\\n\")\n",
    "            estimators = []\n",
    "            model1 = clf1() #\n",
    "            estimators.append(('MLP', model1))\n",
    "            model2 = clf2() #DecisionTreeClassifier()\n",
    "            estimators.append(('DTC', model2))\n",
    "            model3 = clf3() #KNeighborsClassifier()\n",
    "            estimators.append(('KNN', model3))\n",
    "\n",
    "            # create the ensemble model\n",
    "            ensemble = VotingClassifier(estimators)\n",
    "            ensemble = ensemble.fit(x_labled, y_labled)\n",
    "            pred_ensemble = ensemble.predict(x_unlabled)\n",
    "\n",
    "            for i in range(len(pred_ensemble)):\n",
    "                x_labled = np.append(x_labled,[x_unlabled[i]],axis=0)\n",
    "                y_labled = np.append(y_labled, pred_ensemble[i]) \n",
    "\n",
    "\n",
    "            n = []\n",
    "            for i in range(len(pred_ensemble)):\n",
    "                n = np.append(n,i)\n",
    "                n = n.astype(int)\n",
    "            x_unlabled = np.delete(x_unlabled,n,axis=0) \n",
    "            y_unlabled = np.delete(y_unlabled,n,axis=0)    \n",
    "\n",
    "            print('x_unlabled: ',len(x_unlabled),'\\n All data are labled.\\n')\n",
    "    return x_labled,y_labled"
   ]
  },
  {
   "cell_type": "code",
   "execution_count": 69,
   "metadata": {},
   "outputs": [],
   "source": [
    "def confusionmatrix(cm,targetnames):\n",
    "    cm = cm\n",
    "    l = targetnames\n",
    "    plt.figure(figsize=(5,5))\n",
    "    plt.imshow(cm,cmap=plt.cm.Blues,interpolation='nearest')\n",
    "    plt.xticks(range(len(l)))\n",
    "    plt.yticks(range(len(l)))\n",
    "    plt.colorbar()\n",
    "    plt.show()"
   ]
  },
  {
   "cell_type": "code",
   "execution_count": 70,
   "metadata": {},
   "outputs": [],
   "source": [
    "def k_batch_self_ensemble(k,x_labled, x_unlabled, y_labled, y_unlabled,clf1,clf2,clf3):\n",
    "   \n",
    "    \n",
    "    flag = 0\n",
    "    while flag == 0 :  \n",
    "    \n",
    "    \n",
    "        y_pred1 = clf(clf1,x_labled,y_labled,x_unlabled)\n",
    "        y_pred2 = clf(clf2,x_labled,y_labled,x_unlabled)\n",
    "        y_pred3 = clf(clf3,x_labled,y_labled,x_unlabled) \n",
    "    \n",
    "        l=0 #add until k\n",
    "        i = 0\n",
    "        m = [] #common element\n",
    "        while l < k and i<len(y_pred1):\n",
    "            if y_pred1[i] == y_pred2[i] == y_pred3[i]:\n",
    "                x_labled = np.append(x_labled,[x_unlabled[i]],axis=0)\n",
    "                y_labled = np.append(y_labled, y_pred1[i]) \n",
    "                m = np.append(m,i)\n",
    "                l +=1\n",
    "                i +=1\n",
    "\n",
    "            else:\n",
    "                i +=1\n",
    "        \n",
    "        m = m.astype(int)\n",
    "        x_unlabled = np.delete(x_unlabled,m,axis=0) \n",
    "        y_unlabled = np.delete(y_unlabled,m,axis=0)\n",
    "\n",
    "        if(len(m) < k):\n",
    "            flag = 1\n",
    "     \n",
    "    #Using of voting for the other unlabeld data\n",
    "    \n",
    "    if len(x_unlabled) > 0:\n",
    "    \n",
    "            print(\"\\nUsing VotingClassifier for \",len(x_unlabled),\"unlabled data\",\"\\n\")\n",
    "            estimators = []\n",
    "            model1 = clf1() #\n",
    "            estimators.append(('MLP', model1))\n",
    "            model2 = clf2() #DecisionTreeClassifier()\n",
    "            estimators.append(('DTC', model2))\n",
    "            model3 = clf3() #KNeighborsClassifier()\n",
    "            estimators.append(('KNN', model3))\n",
    "\n",
    "            # create the ensemble model\n",
    "            ensemble = VotingClassifier(estimators)\n",
    "            ensemble = ensemble.fit(x_labled, y_labled)\n",
    "            pred_ensemble = ensemble.predict(x_unlabled)\n",
    "\n",
    "            for i in range(len(pred_ensemble)):\n",
    "                x_labled = np.append(x_labled,[x_unlabled[i]],axis=0)\n",
    "                y_labled = np.append(y_labled, pred_ensemble[i]) \n",
    "\n",
    "\n",
    "            n = []\n",
    "            for i in range(len(pred_ensemble)):\n",
    "                n = np.append(n,i)\n",
    "                n = n.astype(int)\n",
    "            x_unlabled = np.delete(x_unlabled,n,axis=0) \n",
    "            y_unlabled = np.delete(y_unlabled,n,axis=0)    \n",
    "\n",
    "#             print('x_unlabled: ',len(x_unlabled),'\\n All data are labled.\\n')\n",
    "            \n",
    "    return x_labled,y_labled"
   ]
  },
  {
   "cell_type": "code",
   "execution_count": 80,
   "metadata": {},
   "outputs": [],
   "source": [
    "def main_k_batch(dataset_name,baseclassifier,classifier1,classifier2,classifier3):\n",
    "    \n",
    "    clf = baseclassifier()\n",
    "    clf1 = classifier1\n",
    "    clf2 = classifier2\n",
    "    clf3 = classifier3\n",
    "    name = dataset_name\n",
    "    \n",
    "    x,y,target_names = dataset(name)\n",
    "    \n",
    "    x_train,x_test,y_train, y_test = train_test_split(x, y, test_size=0.20, random_state=0 , stratify=y)\n",
    "    x_labled,x_unlabled,y_labled,y_unlabled = train_test_split(x_train, y_train, test_size=0.90, random_state=0 , stratify=y_train)\n",
    "    \n",
    "    \n",
    "    \n",
    "    super_score = testing_score(x_train,y_train,x_test,y_test,clf)\n",
    "    semi_score = testing_score(x_labled, y_labled,x_test,y_test,clf)   #mohasebeye deghat ba 12 ta label dar\n",
    "    \n",
    "    \n",
    "    \n",
    "    print(\"\\t Using self-training for labeling unlanled data: \\n\")\n",
    "    new_x_labled, new_y_labled, iteration = self_training(70.0, 0, x_labled, x_unlabled, y_labled, y_unlabled, clf,y_train)\n",
    "    self_trans_score,self_cm = transductive_score(x_train,y_train,new_x_labled,new_y_labled,target_names)\n",
    "    self_score = testing_score(new_x_labled, new_y_labled,x_test,y_test,clf)\n",
    "    print('confusion matrix of self-training \\n',confusionmatrix(self_cm,target_names),'\\n')\n",
    "    print(\"Accuracy of self-training in labeling: \\n\",self_trans_score,'\\n\\n')\n",
    "    \n",
    "    print(\"\\t Using ensemble-self-training for labling unlanled data: \\n\")\n",
    "    ensemble_x_labled, ensemble_y_labled = self_ensemble(x_labled, x_unlabled, y_labled, y_unlabled,clf1,clf2,clf3)\n",
    "    self_ensemble_score = testing_score(ensemble_x_labled,ensemble_y_labled,x_test,y_test,clf)\n",
    "    ensemble_trans_score,ensemble_cm = transductive_score(x_train,y_train,ensemble_x_labled,ensemble_y_labled,target_names)\n",
    "    print('confusion matrix of ensemble-self-training \\n',confusionmatrix(ensemble_cm,target_names),'\\n')\n",
    "    \n",
    "    print(\"Accuracy of ensemble-self-training in labling: \\n\",ensemble_trans_score,'\\n\\n')\n",
    "    \n",
    "    print(\"\\t Using K_batch_self-ensemble for labeling unlanled data: \\n\")\n",
    "    kb_ensemble_x_labled, kb_ensemble_y_labled = k_batch_self_ensemble(10, x_labled, x_unlabled, y_labled, y_unlabled,clf1,clf2,clf3)\n",
    "    kb_self_ensemble_trans_score,kb_cm = transductive_score(x_train,y_train,kb_ensemble_x_labled,kb_ensemble_y_labled,target_names)\n",
    "    kb_self_ensemble_score = testing_score(new_x_labled, new_y_labled,x_test,y_test,clf)\n",
    "    print('confusion matrix of ensemble-self-training \\n',confusionmatrix(kb_cm,target_names),'\\n')\n",
    "    print(\"Accuracy of K_batch_self-ensemble in labeling: \\n\",kb_self_ensemble_score,'\\n\\n')\n",
    "    \n",
    "    print(\"Accuracy supervised algorithm = %0.2f \" %(super_score * 100) + \"% \\n\")    \n",
    "    print(\"Accuracy of semi-supervised(before labling) = %0.2f \" %(semi_score * 100) + \"% \\n\")\n",
    "    print(\"Accuracy after labling by self-training = %0.2f \" %(self_score* 100) + \"% \\n\")\n",
    "    print(\"Accuracy after labeling by self-ensemble = %0.2f \" %(self_ensemble_score * 100) + \"% \\n\")\n",
    "    print(\"Accuracy after labeling by K_batch_self-ensemble = %0.2f \" %(kb_self_ensemble_score * 100) + \"% \\n\") \n",
    "    \n",
    "    return super_score, semi_score, self_score, self_ensemble_score, kb_self_ensemble_score"
   ]
  },
  {
   "cell_type": "code",
   "execution_count": 81,
   "metadata": {},
   "outputs": [
    {
     "name": "stdout",
     "output_type": "stream",
     "text": [
      "x_unlabled: 51 in 0 iteration   and  threshold:  70.0 \n",
      "\n",
      "x_unlabled: 7 in 1 iteration   and  threshold:  70.0 \n",
      "\n",
      "x_unlabled: 0 in 2 iteration   and  threshold:  70.0 \n",
      "\n",
      "Classifiers agree about label for  356 unlabled data\n",
      "54 are still unlabled!\n",
      "\n",
      "Classifiers agree about label for  19 unlabled data\n",
      "35 are still unlabled!\n",
      "\n",
      "Classifiers agree about label for  1 unlabled data\n",
      "34 are still unlabled!\n",
      "\n",
      "Classifiers agree about label for  1 unlabled data\n",
      "33 are still unlabled!\n",
      "\n",
      "Classifiers agree about label for  0 unlabled data\n",
      "33 are still unlabled!\n",
      "\n",
      "\n",
      "Using VotingClassifier for  33 unlabled data \n",
      "\n",
      "x_unlabled:  0 \n",
      " All data are labled.\n",
      "\n"
     ]
    },
    {
     "name": "stderr",
     "output_type": "stream",
     "text": [
      "C:\\Users\\user\\Anaconda3\\lib\\site-packages\\sklearn\\preprocessing\\label.py:151: DeprecationWarning: The truth value of an empty array is ambiguous. Returning False, but in future this will result in an error. Use `array.size > 0` to check that an array is not empty.\n",
      "  if diff:\n"
     ]
    },
    {
     "name": "stdout",
     "output_type": "stream",
     "text": [
      "\n",
      "Using VotingClassifier for  31 unlabled data \n",
      "\n",
      "x_unlabled:  0 \n",
      " All data are labled.\n",
      "\n"
     ]
    },
    {
     "name": "stderr",
     "output_type": "stream",
     "text": [
      "C:\\Users\\user\\Anaconda3\\lib\\site-packages\\sklearn\\preprocessing\\label.py:151: DeprecationWarning: The truth value of an empty array is ambiguous. Returning False, but in future this will result in an error. Use `array.size > 0` to check that an array is not empty.\n",
      "  if diff:\n"
     ]
    },
    {
     "name": "stdout",
     "output_type": "stream",
     "text": [
      "x_unlabled: 51 in 0 iteration   and  threshold:  70.0 \n",
      "\n",
      "x_unlabled: 7 in 1 iteration   and  threshold:  70.0 \n",
      "\n",
      "x_unlabled: 0 in 2 iteration   and  threshold:  70.0 \n",
      "\n",
      "Classifiers agree about label for  358 unlabled data\n",
      "52 are still unlabled!\n",
      "\n",
      "Classifiers agree about label for  17 unlabled data\n",
      "35 are still unlabled!\n",
      "\n",
      "Classifiers agree about label for  3 unlabled data\n",
      "32 are still unlabled!\n",
      "\n",
      "Classifiers agree about label for  0 unlabled data\n",
      "32 are still unlabled!\n",
      "\n",
      "\n",
      "Using VotingClassifier for  32 unlabled data \n",
      "\n",
      "x_unlabled:  0 \n",
      " All data are labled.\n",
      "\n"
     ]
    },
    {
     "name": "stderr",
     "output_type": "stream",
     "text": [
      "C:\\Users\\user\\Anaconda3\\lib\\site-packages\\sklearn\\preprocessing\\label.py:151: DeprecationWarning: The truth value of an empty array is ambiguous. Returning False, but in future this will result in an error. Use `array.size > 0` to check that an array is not empty.\n",
      "  if diff:\n"
     ]
    },
    {
     "name": "stdout",
     "output_type": "stream",
     "text": [
      "\n",
      "Using VotingClassifier for  31 unlabled data \n",
      "\n",
      "x_unlabled:  0 \n",
      " All data are labled.\n",
      "\n"
     ]
    },
    {
     "name": "stderr",
     "output_type": "stream",
     "text": [
      "C:\\Users\\user\\Anaconda3\\lib\\site-packages\\sklearn\\preprocessing\\label.py:151: DeprecationWarning: The truth value of an empty array is ambiguous. Returning False, but in future this will result in an error. Use `array.size > 0` to check that an array is not empty.\n",
      "  if diff:\n"
     ]
    },
    {
     "name": "stdout",
     "output_type": "stream",
     "text": [
      "x_unlabled: 51 in 0 iteration   and  threshold:  70.0 \n",
      "\n",
      "x_unlabled: 7 in 1 iteration   and  threshold:  70.0 \n",
      "\n",
      "x_unlabled: 0 in 2 iteration   and  threshold:  70.0 \n",
      "\n",
      "Classifiers agree about label for  352 unlabled data\n",
      "58 are still unlabled!\n",
      "\n",
      "Classifiers agree about label for  15 unlabled data\n",
      "43 are still unlabled!\n",
      "\n",
      "Classifiers agree about label for  0 unlabled data\n",
      "43 are still unlabled!\n",
      "\n",
      "\n",
      "Using VotingClassifier for  43 unlabled data \n",
      "\n",
      "x_unlabled:  0 \n",
      " All data are labled.\n",
      "\n"
     ]
    },
    {
     "name": "stderr",
     "output_type": "stream",
     "text": [
      "C:\\Users\\user\\Anaconda3\\lib\\site-packages\\sklearn\\preprocessing\\label.py:151: DeprecationWarning: The truth value of an empty array is ambiguous. Returning False, but in future this will result in an error. Use `array.size > 0` to check that an array is not empty.\n",
      "  if diff:\n"
     ]
    },
    {
     "name": "stdout",
     "output_type": "stream",
     "text": [
      "\n",
      "Using VotingClassifier for  31 unlabled data \n",
      "\n",
      "x_unlabled:  0 \n",
      " All data are labled.\n",
      "\n"
     ]
    },
    {
     "name": "stderr",
     "output_type": "stream",
     "text": [
      "C:\\Users\\user\\Anaconda3\\lib\\site-packages\\sklearn\\preprocessing\\label.py:151: DeprecationWarning: The truth value of an empty array is ambiguous. Returning False, but in future this will result in an error. Use `array.size > 0` to check that an array is not empty.\n",
      "  if diff:\n"
     ]
    },
    {
     "name": "stdout",
     "output_type": "stream",
     "text": [
      "x_unlabled: 51 in 0 iteration   and  threshold:  70.0 \n",
      "\n",
      "x_unlabled: 7 in 1 iteration   and  threshold:  70.0 \n",
      "\n",
      "x_unlabled: 0 in 2 iteration   and  threshold:  70.0 \n",
      "\n",
      "Classifiers agree about label for  348 unlabled data\n",
      "62 are still unlabled!\n",
      "\n",
      "Classifiers agree about label for  15 unlabled data\n",
      "47 are still unlabled!\n",
      "\n",
      "Classifiers agree about label for  2 unlabled data\n",
      "45 are still unlabled!\n",
      "\n",
      "Classifiers agree about label for  0 unlabled data\n",
      "45 are still unlabled!\n",
      "\n",
      "\n",
      "Using VotingClassifier for  45 unlabled data \n",
      "\n",
      "x_unlabled:  0 \n",
      " All data are labled.\n",
      "\n"
     ]
    },
    {
     "name": "stderr",
     "output_type": "stream",
     "text": [
      "C:\\Users\\user\\Anaconda3\\lib\\site-packages\\sklearn\\preprocessing\\label.py:151: DeprecationWarning: The truth value of an empty array is ambiguous. Returning False, but in future this will result in an error. Use `array.size > 0` to check that an array is not empty.\n",
      "  if diff:\n"
     ]
    },
    {
     "name": "stdout",
     "output_type": "stream",
     "text": [
      "\n",
      "Using VotingClassifier for  33 unlabled data \n",
      "\n",
      "x_unlabled:  0 \n",
      " All data are labled.\n",
      "\n"
     ]
    },
    {
     "name": "stderr",
     "output_type": "stream",
     "text": [
      "C:\\Users\\user\\Anaconda3\\lib\\site-packages\\sklearn\\preprocessing\\label.py:151: DeprecationWarning: The truth value of an empty array is ambiguous. Returning False, but in future this will result in an error. Use `array.size > 0` to check that an array is not empty.\n",
      "  if diff:\n"
     ]
    },
    {
     "name": "stdout",
     "output_type": "stream",
     "text": [
      "x_unlabled: 51 in 0 iteration   and  threshold:  70.0 \n",
      "\n",
      "x_unlabled: 7 in 1 iteration   and  threshold:  70.0 \n",
      "\n",
      "x_unlabled: 0 in 2 iteration   and  threshold:  70.0 \n",
      "\n",
      "Classifiers agree about label for  348 unlabled data\n",
      "62 are still unlabled!\n",
      "\n",
      "Classifiers agree about label for  14 unlabled data\n",
      "48 are still unlabled!\n",
      "\n",
      "Classifiers agree about label for  2 unlabled data\n",
      "46 are still unlabled!\n",
      "\n",
      "Classifiers agree about label for  0 unlabled data\n",
      "46 are still unlabled!\n",
      "\n",
      "\n",
      "Using VotingClassifier for  46 unlabled data \n",
      "\n",
      "x_unlabled:  0 \n",
      " All data are labled.\n",
      "\n"
     ]
    },
    {
     "name": "stderr",
     "output_type": "stream",
     "text": [
      "C:\\Users\\user\\Anaconda3\\lib\\site-packages\\sklearn\\preprocessing\\label.py:151: DeprecationWarning: The truth value of an empty array is ambiguous. Returning False, but in future this will result in an error. Use `array.size > 0` to check that an array is not empty.\n",
      "  if diff:\n"
     ]
    },
    {
     "name": "stdout",
     "output_type": "stream",
     "text": [
      "\n",
      "Using VotingClassifier for  31 unlabled data \n",
      "\n",
      "x_unlabled:  0 \n",
      " All data are labled.\n",
      "\n"
     ]
    },
    {
     "name": "stderr",
     "output_type": "stream",
     "text": [
      "C:\\Users\\user\\Anaconda3\\lib\\site-packages\\sklearn\\preprocessing\\label.py:151: DeprecationWarning: The truth value of an empty array is ambiguous. Returning False, but in future this will result in an error. Use `array.size > 0` to check that an array is not empty.\n",
      "  if diff:\n"
     ]
    },
    {
     "name": "stdout",
     "output_type": "stream",
     "text": [
      "x_unlabled: 51 in 0 iteration   and  threshold:  70.0 \n",
      "\n",
      "x_unlabled: 7 in 1 iteration   and  threshold:  70.0 \n",
      "\n",
      "x_unlabled: 0 in 2 iteration   and  threshold:  70.0 \n",
      "\n",
      "Classifiers agree about label for  348 unlabled data\n",
      "62 are still unlabled!\n",
      "\n",
      "Classifiers agree about label for  15 unlabled data\n",
      "47 are still unlabled!\n",
      "\n",
      "Classifiers agree about label for  2 unlabled data\n",
      "45 are still unlabled!\n",
      "\n",
      "Classifiers agree about label for  0 unlabled data\n",
      "45 are still unlabled!\n",
      "\n",
      "\n",
      "Using VotingClassifier for  45 unlabled data \n",
      "\n",
      "x_unlabled:  0 \n",
      " All data are labled.\n",
      "\n"
     ]
    },
    {
     "name": "stderr",
     "output_type": "stream",
     "text": [
      "C:\\Users\\user\\Anaconda3\\lib\\site-packages\\sklearn\\preprocessing\\label.py:151: DeprecationWarning: The truth value of an empty array is ambiguous. Returning False, but in future this will result in an error. Use `array.size > 0` to check that an array is not empty.\n",
      "  if diff:\n"
     ]
    },
    {
     "name": "stdout",
     "output_type": "stream",
     "text": [
      "\n",
      "Using VotingClassifier for  31 unlabled data \n",
      "\n",
      "x_unlabled:  0 \n",
      " All data are labled.\n",
      "\n"
     ]
    },
    {
     "name": "stderr",
     "output_type": "stream",
     "text": [
      "C:\\Users\\user\\Anaconda3\\lib\\site-packages\\sklearn\\preprocessing\\label.py:151: DeprecationWarning: The truth value of an empty array is ambiguous. Returning False, but in future this will result in an error. Use `array.size > 0` to check that an array is not empty.\n",
      "  if diff:\n"
     ]
    },
    {
     "name": "stdout",
     "output_type": "stream",
     "text": [
      "x_unlabled: 51 in 0 iteration   and  threshold:  70.0 \n",
      "\n",
      "x_unlabled: 7 in 1 iteration   and  threshold:  70.0 \n",
      "\n",
      "x_unlabled: 0 in 2 iteration   and  threshold:  70.0 \n",
      "\n",
      "Classifiers agree about label for  346 unlabled data\n",
      "64 are still unlabled!\n",
      "\n",
      "Classifiers agree about label for  16 unlabled data\n",
      "48 are still unlabled!\n",
      "\n",
      "Classifiers agree about label for  2 unlabled data\n",
      "46 are still unlabled!\n",
      "\n",
      "Classifiers agree about label for  1 unlabled data\n",
      "45 are still unlabled!\n",
      "\n",
      "Classifiers agree about label for  0 unlabled data\n",
      "45 are still unlabled!\n",
      "\n",
      "\n",
      "Using VotingClassifier for  45 unlabled data \n",
      "\n",
      "x_unlabled:  0 \n",
      " All data are labled.\n",
      "\n"
     ]
    },
    {
     "name": "stderr",
     "output_type": "stream",
     "text": [
      "C:\\Users\\user\\Anaconda3\\lib\\site-packages\\sklearn\\preprocessing\\label.py:151: DeprecationWarning: The truth value of an empty array is ambiguous. Returning False, but in future this will result in an error. Use `array.size > 0` to check that an array is not empty.\n",
      "  if diff:\n"
     ]
    },
    {
     "name": "stdout",
     "output_type": "stream",
     "text": [
      "\n",
      "Using VotingClassifier for  31 unlabled data \n",
      "\n",
      "x_unlabled:  0 \n",
      " All data are labled.\n",
      "\n"
     ]
    },
    {
     "name": "stderr",
     "output_type": "stream",
     "text": [
      "C:\\Users\\user\\Anaconda3\\lib\\site-packages\\sklearn\\preprocessing\\label.py:151: DeprecationWarning: The truth value of an empty array is ambiguous. Returning False, but in future this will result in an error. Use `array.size > 0` to check that an array is not empty.\n",
      "  if diff:\n"
     ]
    },
    {
     "name": "stdout",
     "output_type": "stream",
     "text": [
      "x_unlabled: 51 in 0 iteration   and  threshold:  70.0 \n",
      "\n",
      "x_unlabled: 7 in 1 iteration   and  threshold:  70.0 \n",
      "\n",
      "x_unlabled: 0 in 2 iteration   and  threshold:  70.0 \n",
      "\n",
      "Classifiers agree about label for  342 unlabled data\n",
      "68 are still unlabled!\n",
      "\n",
      "Classifiers agree about label for  21 unlabled data\n",
      "47 are still unlabled!\n",
      "\n",
      "Classifiers agree about label for  2 unlabled data\n",
      "45 are still unlabled!\n",
      "\n",
      "Classifiers agree about label for  0 unlabled data\n",
      "45 are still unlabled!\n",
      "\n",
      "\n",
      "Using VotingClassifier for  45 unlabled data \n",
      "\n",
      "x_unlabled:  0 \n",
      " All data are labled.\n",
      "\n"
     ]
    },
    {
     "name": "stderr",
     "output_type": "stream",
     "text": [
      "C:\\Users\\user\\Anaconda3\\lib\\site-packages\\sklearn\\preprocessing\\label.py:151: DeprecationWarning: The truth value of an empty array is ambiguous. Returning False, but in future this will result in an error. Use `array.size > 0` to check that an array is not empty.\n",
      "  if diff:\n"
     ]
    },
    {
     "name": "stdout",
     "output_type": "stream",
     "text": [
      "\n",
      "Using VotingClassifier for  31 unlabled data \n",
      "\n",
      "x_unlabled:  0 \n",
      " All data are labled.\n",
      "\n"
     ]
    },
    {
     "name": "stderr",
     "output_type": "stream",
     "text": [
      "C:\\Users\\user\\Anaconda3\\lib\\site-packages\\sklearn\\preprocessing\\label.py:151: DeprecationWarning: The truth value of an empty array is ambiguous. Returning False, but in future this will result in an error. Use `array.size > 0` to check that an array is not empty.\n",
      "  if diff:\n"
     ]
    },
    {
     "name": "stdout",
     "output_type": "stream",
     "text": [
      "x_unlabled: 51 in 0 iteration   and  threshold:  70.0 \n",
      "\n",
      "x_unlabled: 7 in 1 iteration   and  threshold:  70.0 \n",
      "\n",
      "x_unlabled: 0 in 2 iteration   and  threshold:  70.0 \n",
      "\n",
      "Classifiers agree about label for  358 unlabled data\n",
      "52 are still unlabled!\n",
      "\n",
      "Classifiers agree about label for  15 unlabled data\n",
      "37 are still unlabled!\n",
      "\n",
      "Classifiers agree about label for  3 unlabled data\n",
      "34 are still unlabled!\n",
      "\n",
      "Classifiers agree about label for  2 unlabled data\n",
      "32 are still unlabled!\n",
      "\n",
      "Classifiers agree about label for  0 unlabled data\n",
      "32 are still unlabled!\n",
      "\n",
      "\n",
      "Using VotingClassifier for  32 unlabled data \n",
      "\n",
      "x_unlabled:  0 \n",
      " All data are labled.\n",
      "\n"
     ]
    },
    {
     "name": "stderr",
     "output_type": "stream",
     "text": [
      "C:\\Users\\user\\Anaconda3\\lib\\site-packages\\sklearn\\preprocessing\\label.py:151: DeprecationWarning: The truth value of an empty array is ambiguous. Returning False, but in future this will result in an error. Use `array.size > 0` to check that an array is not empty.\n",
      "  if diff:\n"
     ]
    },
    {
     "name": "stdout",
     "output_type": "stream",
     "text": [
      "\n",
      "Using VotingClassifier for  31 unlabled data \n",
      "\n",
      "x_unlabled:  0 \n",
      " All data are labled.\n",
      "\n"
     ]
    },
    {
     "name": "stderr",
     "output_type": "stream",
     "text": [
      "C:\\Users\\user\\Anaconda3\\lib\\site-packages\\sklearn\\preprocessing\\label.py:151: DeprecationWarning: The truth value of an empty array is ambiguous. Returning False, but in future this will result in an error. Use `array.size > 0` to check that an array is not empty.\n",
      "  if diff:\n"
     ]
    },
    {
     "name": "stdout",
     "output_type": "stream",
     "text": [
      "x_unlabled: 51 in 0 iteration   and  threshold:  70.0 \n",
      "\n",
      "x_unlabled: 7 in 1 iteration   and  threshold:  70.0 \n",
      "\n",
      "x_unlabled: 0 in 2 iteration   and  threshold:  70.0 \n",
      "\n",
      "Classifiers agree about label for  358 unlabled data\n",
      "52 are still unlabled!\n",
      "\n",
      "Classifiers agree about label for  17 unlabled data\n",
      "35 are still unlabled!\n",
      "\n",
      "Classifiers agree about label for  3 unlabled data\n",
      "32 are still unlabled!\n",
      "\n",
      "Classifiers agree about label for  0 unlabled data\n",
      "32 are still unlabled!\n",
      "\n",
      "\n",
      "Using VotingClassifier for  32 unlabled data \n",
      "\n",
      "x_unlabled:  0 \n",
      " All data are labled.\n",
      "\n"
     ]
    },
    {
     "name": "stderr",
     "output_type": "stream",
     "text": [
      "C:\\Users\\user\\Anaconda3\\lib\\site-packages\\sklearn\\preprocessing\\label.py:151: DeprecationWarning: The truth value of an empty array is ambiguous. Returning False, but in future this will result in an error. Use `array.size > 0` to check that an array is not empty.\n",
      "  if diff:\n"
     ]
    },
    {
     "name": "stdout",
     "output_type": "stream",
     "text": [
      "\n",
      "Using VotingClassifier for  31 unlabled data \n",
      "\n",
      "x_unlabled:  0 \n",
      " All data are labled.\n",
      "\n"
     ]
    },
    {
     "name": "stderr",
     "output_type": "stream",
     "text": [
      "C:\\Users\\user\\Anaconda3\\lib\\site-packages\\sklearn\\preprocessing\\label.py:151: DeprecationWarning: The truth value of an empty array is ambiguous. Returning False, but in future this will result in an error. Use `array.size > 0` to check that an array is not empty.\n",
      "  if diff:\n"
     ]
    },
    {
     "name": "stdout",
     "output_type": "stream",
     "text": [
      "x_unlabled: 1 in 0 iteration   and  threshold:  70.0 \n",
      "\n",
      "x_unlabled: 1 in 1 iteration   and  threshold:  52.08397244631545 \n",
      "\n",
      "x_unlabled: 0 in 2 iteration   and  threshold:  52.08397244631545 \n",
      "\n",
      "Classifiers agree about label for  358 unlabled data\n",
      "52 are still unlabled!\n",
      "\n",
      "Classifiers agree about label for  17 unlabled data\n",
      "35 are still unlabled!\n",
      "\n",
      "Classifiers agree about label for  3 unlabled data\n",
      "32 are still unlabled!\n",
      "\n",
      "Classifiers agree about label for  0 unlabled data\n",
      "32 are still unlabled!\n",
      "\n",
      "\n",
      "Using VotingClassifier for  32 unlabled data \n",
      "\n",
      "x_unlabled:  0 \n",
      " All data are labled.\n",
      "\n"
     ]
    },
    {
     "name": "stderr",
     "output_type": "stream",
     "text": [
      "C:\\Users\\user\\Anaconda3\\lib\\site-packages\\sklearn\\preprocessing\\label.py:151: DeprecationWarning: The truth value of an empty array is ambiguous. Returning False, but in future this will result in an error. Use `array.size > 0` to check that an array is not empty.\n",
      "  if diff:\n"
     ]
    },
    {
     "name": "stdout",
     "output_type": "stream",
     "text": [
      "\n",
      "Using VotingClassifier for  32 unlabled data \n",
      "\n",
      "x_unlabled:  0 \n",
      " All data are labled.\n",
      "\n"
     ]
    },
    {
     "name": "stderr",
     "output_type": "stream",
     "text": [
      "C:\\Users\\user\\Anaconda3\\lib\\site-packages\\sklearn\\preprocessing\\label.py:151: DeprecationWarning: The truth value of an empty array is ambiguous. Returning False, but in future this will result in an error. Use `array.size > 0` to check that an array is not empty.\n",
      "  if diff:\n"
     ]
    },
    {
     "name": "stdout",
     "output_type": "stream",
     "text": [
      "x_unlabled: 1 in 0 iteration   and  threshold:  70.0 \n",
      "\n",
      "x_unlabled: 1 in 1 iteration   and  threshold:  52.08397244631545 \n",
      "\n",
      "x_unlabled: 0 in 2 iteration   and  threshold:  52.08397244631545 \n",
      "\n",
      "Classifiers agree about label for  346 unlabled data\n",
      "64 are still unlabled!\n",
      "\n",
      "Classifiers agree about label for  17 unlabled data\n",
      "47 are still unlabled!\n",
      "\n",
      "Classifiers agree about label for  2 unlabled data\n",
      "45 are still unlabled!\n",
      "\n",
      "Classifiers agree about label for  0 unlabled data\n",
      "45 are still unlabled!\n",
      "\n",
      "\n",
      "Using VotingClassifier for  45 unlabled data \n",
      "\n",
      "x_unlabled:  0 \n",
      " All data are labled.\n",
      "\n"
     ]
    },
    {
     "name": "stderr",
     "output_type": "stream",
     "text": [
      "C:\\Users\\user\\Anaconda3\\lib\\site-packages\\sklearn\\preprocessing\\label.py:151: DeprecationWarning: The truth value of an empty array is ambiguous. Returning False, but in future this will result in an error. Use `array.size > 0` to check that an array is not empty.\n",
      "  if diff:\n"
     ]
    },
    {
     "name": "stdout",
     "output_type": "stream",
     "text": [
      "\n",
      "Using VotingClassifier for  33 unlabled data \n",
      "\n",
      "x_unlabled:  0 \n",
      " All data are labled.\n",
      "\n"
     ]
    },
    {
     "name": "stderr",
     "output_type": "stream",
     "text": [
      "C:\\Users\\user\\Anaconda3\\lib\\site-packages\\sklearn\\preprocessing\\label.py:151: DeprecationWarning: The truth value of an empty array is ambiguous. Returning False, but in future this will result in an error. Use `array.size > 0` to check that an array is not empty.\n",
      "  if diff:\n"
     ]
    },
    {
     "name": "stdout",
     "output_type": "stream",
     "text": [
      "x_unlabled: 1 in 0 iteration   and  threshold:  70.0 \n",
      "\n",
      "x_unlabled: 1 in 1 iteration   and  threshold:  52.08397244631545 \n",
      "\n",
      "x_unlabled: 0 in 2 iteration   and  threshold:  52.08397244631545 \n",
      "\n",
      "Classifiers agree about label for  341 unlabled data\n",
      "69 are still unlabled!\n",
      "\n",
      "Classifiers agree about label for  21 unlabled data\n",
      "48 are still unlabled!\n",
      "\n",
      "Classifiers agree about label for  2 unlabled data\n",
      "46 are still unlabled!\n",
      "\n",
      "Classifiers agree about label for  1 unlabled data\n",
      "45 are still unlabled!\n",
      "\n",
      "Classifiers agree about label for  0 unlabled data\n",
      "45 are still unlabled!\n",
      "\n",
      "\n",
      "Using VotingClassifier for  45 unlabled data \n",
      "\n",
      "x_unlabled:  0 \n",
      " All data are labled.\n",
      "\n"
     ]
    },
    {
     "name": "stderr",
     "output_type": "stream",
     "text": [
      "C:\\Users\\user\\Anaconda3\\lib\\site-packages\\sklearn\\preprocessing\\label.py:151: DeprecationWarning: The truth value of an empty array is ambiguous. Returning False, but in future this will result in an error. Use `array.size > 0` to check that an array is not empty.\n",
      "  if diff:\n"
     ]
    },
    {
     "name": "stdout",
     "output_type": "stream",
     "text": [
      "\n",
      "Using VotingClassifier for  33 unlabled data \n",
      "\n",
      "x_unlabled:  0 \n",
      " All data are labled.\n",
      "\n"
     ]
    },
    {
     "name": "stderr",
     "output_type": "stream",
     "text": [
      "C:\\Users\\user\\Anaconda3\\lib\\site-packages\\sklearn\\preprocessing\\label.py:151: DeprecationWarning: The truth value of an empty array is ambiguous. Returning False, but in future this will result in an error. Use `array.size > 0` to check that an array is not empty.\n",
      "  if diff:\n"
     ]
    },
    {
     "name": "stdout",
     "output_type": "stream",
     "text": [
      "x_unlabled: 1 in 0 iteration   and  threshold:  70.0 \n",
      "\n",
      "x_unlabled: 1 in 1 iteration   and  threshold:  52.08397244631545 \n",
      "\n",
      "x_unlabled: 0 in 2 iteration   and  threshold:  52.08397244631545 \n",
      "\n",
      "Classifiers agree about label for  352 unlabled data\n",
      "58 are still unlabled!\n",
      "\n",
      "Classifiers agree about label for  15 unlabled data\n",
      "43 are still unlabled!\n",
      "\n",
      "Classifiers agree about label for  0 unlabled data\n",
      "43 are still unlabled!\n",
      "\n",
      "\n",
      "Using VotingClassifier for  43 unlabled data \n",
      "\n",
      "x_unlabled:  0 \n",
      " All data are labled.\n",
      "\n"
     ]
    },
    {
     "name": "stderr",
     "output_type": "stream",
     "text": [
      "C:\\Users\\user\\Anaconda3\\lib\\site-packages\\sklearn\\preprocessing\\label.py:151: DeprecationWarning: The truth value of an empty array is ambiguous. Returning False, but in future this will result in an error. Use `array.size > 0` to check that an array is not empty.\n",
      "  if diff:\n"
     ]
    },
    {
     "name": "stdout",
     "output_type": "stream",
     "text": [
      "\n",
      "Using VotingClassifier for  33 unlabled data \n",
      "\n",
      "x_unlabled:  0 \n",
      " All data are labled.\n",
      "\n"
     ]
    },
    {
     "name": "stderr",
     "output_type": "stream",
     "text": [
      "C:\\Users\\user\\Anaconda3\\lib\\site-packages\\sklearn\\preprocessing\\label.py:151: DeprecationWarning: The truth value of an empty array is ambiguous. Returning False, but in future this will result in an error. Use `array.size > 0` to check that an array is not empty.\n",
      "  if diff:\n"
     ]
    },
    {
     "name": "stdout",
     "output_type": "stream",
     "text": [
      "x_unlabled: 1 in 0 iteration   and  threshold:  70.0 \n",
      "\n",
      "x_unlabled: 1 in 1 iteration   and  threshold:  52.08397244631545 \n",
      "\n",
      "x_unlabled: 0 in 2 iteration   and  threshold:  52.08397244631545 \n",
      "\n",
      "Classifiers agree about label for  341 unlabled data\n",
      "69 are still unlabled!\n",
      "\n",
      "Classifiers agree about label for  21 unlabled data\n",
      "48 are still unlabled!\n",
      "\n",
      "Classifiers agree about label for  2 unlabled data\n",
      "46 are still unlabled!\n",
      "\n",
      "Classifiers agree about label for  1 unlabled data\n",
      "45 are still unlabled!\n",
      "\n",
      "Classifiers agree about label for  0 unlabled data\n",
      "45 are still unlabled!\n",
      "\n",
      "\n",
      "Using VotingClassifier for  45 unlabled data \n",
      "\n",
      "x_unlabled:  0 \n",
      " All data are labled.\n",
      "\n"
     ]
    },
    {
     "name": "stderr",
     "output_type": "stream",
     "text": [
      "C:\\Users\\user\\Anaconda3\\lib\\site-packages\\sklearn\\preprocessing\\label.py:151: DeprecationWarning: The truth value of an empty array is ambiguous. Returning False, but in future this will result in an error. Use `array.size > 0` to check that an array is not empty.\n",
      "  if diff:\n"
     ]
    },
    {
     "name": "stdout",
     "output_type": "stream",
     "text": [
      "\n",
      "Using VotingClassifier for  31 unlabled data \n",
      "\n",
      "x_unlabled:  0 \n",
      " All data are labled.\n",
      "\n"
     ]
    },
    {
     "name": "stderr",
     "output_type": "stream",
     "text": [
      "C:\\Users\\user\\Anaconda3\\lib\\site-packages\\sklearn\\preprocessing\\label.py:151: DeprecationWarning: The truth value of an empty array is ambiguous. Returning False, but in future this will result in an error. Use `array.size > 0` to check that an array is not empty.\n",
      "  if diff:\n"
     ]
    },
    {
     "name": "stdout",
     "output_type": "stream",
     "text": [
      "x_unlabled: 1 in 0 iteration   and  threshold:  70.0 \n",
      "\n",
      "x_unlabled: 1 in 1 iteration   and  threshold:  52.08397244631545 \n",
      "\n",
      "x_unlabled: 0 in 2 iteration   and  threshold:  52.08397244631545 \n",
      "\n",
      "Classifiers agree about label for  350 unlabled data\n",
      "60 are still unlabled!\n",
      "\n",
      "Classifiers agree about label for  13 unlabled data\n",
      "47 are still unlabled!\n",
      "\n",
      "Classifiers agree about label for  2 unlabled data\n",
      "45 are still unlabled!\n",
      "\n",
      "Classifiers agree about label for  0 unlabled data\n",
      "45 are still unlabled!\n",
      "\n",
      "\n",
      "Using VotingClassifier for  45 unlabled data \n",
      "\n",
      "x_unlabled:  0 \n",
      " All data are labled.\n",
      "\n"
     ]
    },
    {
     "name": "stderr",
     "output_type": "stream",
     "text": [
      "C:\\Users\\user\\Anaconda3\\lib\\site-packages\\sklearn\\preprocessing\\label.py:151: DeprecationWarning: The truth value of an empty array is ambiguous. Returning False, but in future this will result in an error. Use `array.size > 0` to check that an array is not empty.\n",
      "  if diff:\n"
     ]
    },
    {
     "name": "stdout",
     "output_type": "stream",
     "text": [
      "\n",
      "Using VotingClassifier for  32 unlabled data \n",
      "\n",
      "x_unlabled:  0 \n",
      " All data are labled.\n",
      "\n"
     ]
    },
    {
     "name": "stderr",
     "output_type": "stream",
     "text": [
      "C:\\Users\\user\\Anaconda3\\lib\\site-packages\\sklearn\\preprocessing\\label.py:151: DeprecationWarning: The truth value of an empty array is ambiguous. Returning False, but in future this will result in an error. Use `array.size > 0` to check that an array is not empty.\n",
      "  if diff:\n"
     ]
    },
    {
     "name": "stdout",
     "output_type": "stream",
     "text": [
      "x_unlabled: 1 in 0 iteration   and  threshold:  70.0 \n",
      "\n",
      "x_unlabled: 1 in 1 iteration   and  threshold:  52.08397244631545 \n",
      "\n",
      "x_unlabled: 0 in 2 iteration   and  threshold:  52.08397244631545 \n",
      "\n",
      "Classifiers agree about label for  348 unlabled data\n",
      "62 are still unlabled!\n",
      "\n",
      "Classifiers agree about label for  15 unlabled data\n",
      "47 are still unlabled!\n",
      "\n",
      "Classifiers agree about label for  2 unlabled data\n",
      "45 are still unlabled!\n",
      "\n",
      "Classifiers agree about label for  0 unlabled data\n",
      "45 are still unlabled!\n",
      "\n",
      "\n",
      "Using VotingClassifier for  45 unlabled data \n",
      "\n",
      "x_unlabled:  0 \n",
      " All data are labled.\n",
      "\n"
     ]
    },
    {
     "name": "stderr",
     "output_type": "stream",
     "text": [
      "C:\\Users\\user\\Anaconda3\\lib\\site-packages\\sklearn\\preprocessing\\label.py:151: DeprecationWarning: The truth value of an empty array is ambiguous. Returning False, but in future this will result in an error. Use `array.size > 0` to check that an array is not empty.\n",
      "  if diff:\n"
     ]
    },
    {
     "name": "stdout",
     "output_type": "stream",
     "text": [
      "\n",
      "Using VotingClassifier for  31 unlabled data \n",
      "\n",
      "x_unlabled:  0 \n",
      " All data are labled.\n",
      "\n"
     ]
    },
    {
     "name": "stderr",
     "output_type": "stream",
     "text": [
      "C:\\Users\\user\\Anaconda3\\lib\\site-packages\\sklearn\\preprocessing\\label.py:151: DeprecationWarning: The truth value of an empty array is ambiguous. Returning False, but in future this will result in an error. Use `array.size > 0` to check that an array is not empty.\n",
      "  if diff:\n"
     ]
    },
    {
     "name": "stdout",
     "output_type": "stream",
     "text": [
      "x_unlabled: 1 in 0 iteration   and  threshold:  70.0 \n",
      "\n",
      "x_unlabled: 1 in 1 iteration   and  threshold:  52.08397244631545 \n",
      "\n",
      "x_unlabled: 0 in 2 iteration   and  threshold:  52.08397244631545 \n",
      "\n",
      "Classifiers agree about label for  342 unlabled data\n",
      "68 are still unlabled!\n",
      "\n",
      "Classifiers agree about label for  20 unlabled data\n",
      "48 are still unlabled!\n",
      "\n",
      "Classifiers agree about label for  2 unlabled data\n",
      "46 are still unlabled!\n",
      "\n",
      "Classifiers agree about label for  1 unlabled data\n",
      "45 are still unlabled!\n",
      "\n",
      "Classifiers agree about label for  0 unlabled data\n",
      "45 are still unlabled!\n",
      "\n",
      "\n",
      "Using VotingClassifier for  45 unlabled data \n",
      "\n",
      "x_unlabled:  0 \n",
      " All data are labled.\n",
      "\n"
     ]
    },
    {
     "name": "stderr",
     "output_type": "stream",
     "text": [
      "C:\\Users\\user\\Anaconda3\\lib\\site-packages\\sklearn\\preprocessing\\label.py:151: DeprecationWarning: The truth value of an empty array is ambiguous. Returning False, but in future this will result in an error. Use `array.size > 0` to check that an array is not empty.\n",
      "  if diff:\n"
     ]
    },
    {
     "name": "stdout",
     "output_type": "stream",
     "text": [
      "\n",
      "Using VotingClassifier for  31 unlabled data \n",
      "\n",
      "x_unlabled:  0 \n",
      " All data are labled.\n",
      "\n"
     ]
    },
    {
     "name": "stderr",
     "output_type": "stream",
     "text": [
      "C:\\Users\\user\\Anaconda3\\lib\\site-packages\\sklearn\\preprocessing\\label.py:151: DeprecationWarning: The truth value of an empty array is ambiguous. Returning False, but in future this will result in an error. Use `array.size > 0` to check that an array is not empty.\n",
      "  if diff:\n"
     ]
    },
    {
     "name": "stdout",
     "output_type": "stream",
     "text": [
      "x_unlabled: 1 in 0 iteration   and  threshold:  70.0 \n",
      "\n",
      "x_unlabled: 1 in 1 iteration   and  threshold:  52.08397244631545 \n",
      "\n",
      "x_unlabled: 0 in 2 iteration   and  threshold:  52.08397244631545 \n",
      "\n",
      "Classifiers agree about label for  346 unlabled data\n",
      "64 are still unlabled!\n",
      "\n",
      "Classifiers agree about label for  17 unlabled data\n",
      "47 are still unlabled!\n",
      "\n",
      "Classifiers agree about label for  2 unlabled data\n",
      "45 are still unlabled!\n",
      "\n",
      "Classifiers agree about label for  0 unlabled data\n",
      "45 are still unlabled!\n",
      "\n",
      "\n",
      "Using VotingClassifier for  45 unlabled data \n",
      "\n",
      "x_unlabled:  0 \n",
      " All data are labled.\n",
      "\n"
     ]
    },
    {
     "name": "stderr",
     "output_type": "stream",
     "text": [
      "C:\\Users\\user\\Anaconda3\\lib\\site-packages\\sklearn\\preprocessing\\label.py:151: DeprecationWarning: The truth value of an empty array is ambiguous. Returning False, but in future this will result in an error. Use `array.size > 0` to check that an array is not empty.\n",
      "  if diff:\n"
     ]
    },
    {
     "name": "stdout",
     "output_type": "stream",
     "text": [
      "\n",
      "Using VotingClassifier for  31 unlabled data \n",
      "\n",
      "x_unlabled:  0 \n",
      " All data are labled.\n",
      "\n"
     ]
    },
    {
     "name": "stderr",
     "output_type": "stream",
     "text": [
      "C:\\Users\\user\\Anaconda3\\lib\\site-packages\\sklearn\\preprocessing\\label.py:151: DeprecationWarning: The truth value of an empty array is ambiguous. Returning False, but in future this will result in an error. Use `array.size > 0` to check that an array is not empty.\n",
      "  if diff:\n"
     ]
    },
    {
     "name": "stdout",
     "output_type": "stream",
     "text": [
      "x_unlabled: 1 in 0 iteration   and  threshold:  70.0 \n",
      "\n",
      "x_unlabled: 1 in 1 iteration   and  threshold:  52.08397244631545 \n",
      "\n",
      "x_unlabled: 0 in 2 iteration   and  threshold:  52.08397244631545 \n",
      "\n",
      "Classifiers agree about label for  341 unlabled data\n",
      "69 are still unlabled!\n",
      "\n",
      "Classifiers agree about label for  21 unlabled data\n",
      "48 are still unlabled!\n",
      "\n",
      "Classifiers agree about label for  3 unlabled data\n",
      "45 are still unlabled!\n",
      "\n",
      "Classifiers agree about label for  0 unlabled data\n",
      "45 are still unlabled!\n",
      "\n",
      "\n",
      "Using VotingClassifier for  45 unlabled data \n",
      "\n",
      "x_unlabled:  0 \n",
      " All data are labled.\n",
      "\n"
     ]
    },
    {
     "name": "stderr",
     "output_type": "stream",
     "text": [
      "C:\\Users\\user\\Anaconda3\\lib\\site-packages\\sklearn\\preprocessing\\label.py:151: DeprecationWarning: The truth value of an empty array is ambiguous. Returning False, but in future this will result in an error. Use `array.size > 0` to check that an array is not empty.\n",
      "  if diff:\n"
     ]
    },
    {
     "name": "stdout",
     "output_type": "stream",
     "text": [
      "\n",
      "Using VotingClassifier for  33 unlabled data \n",
      "\n",
      "x_unlabled:  0 \n",
      " All data are labled.\n",
      "\n"
     ]
    },
    {
     "name": "stderr",
     "output_type": "stream",
     "text": [
      "C:\\Users\\user\\Anaconda3\\lib\\site-packages\\sklearn\\preprocessing\\label.py:151: DeprecationWarning: The truth value of an empty array is ambiguous. Returning False, but in future this will result in an error. Use `array.size > 0` to check that an array is not empty.\n",
      "  if diff:\n"
     ]
    },
    {
     "name": "stdout",
     "output_type": "stream",
     "text": [
      "x_unlabled: 0 in 0 iteration   and  threshold:  70.0 \n",
      "\n",
      "Classifiers agree about label for  339 unlabled data\n",
      "71 are still unlabled!\n",
      "\n",
      "Classifiers agree about label for  15 unlabled data\n",
      "56 are still unlabled!\n",
      "\n",
      "Classifiers agree about label for  3 unlabled data\n",
      "53 are still unlabled!\n",
      "\n",
      "Classifiers agree about label for  1 unlabled data\n",
      "52 are still unlabled!\n",
      "\n",
      "Classifiers agree about label for  1 unlabled data\n",
      "51 are still unlabled!\n",
      "\n",
      "Classifiers agree about label for  0 unlabled data\n",
      "51 are still unlabled!\n",
      "\n",
      "\n",
      "Using VotingClassifier for  51 unlabled data \n",
      "\n",
      "x_unlabled: "
     ]
    },
    {
     "name": "stderr",
     "output_type": "stream",
     "text": [
      "C:\\Users\\user\\Anaconda3\\lib\\site-packages\\sklearn\\preprocessing\\label.py:151: DeprecationWarning: The truth value of an empty array is ambiguous. Returning False, but in future this will result in an error. Use `array.size > 0` to check that an array is not empty.\n",
      "  if diff:\n"
     ]
    },
    {
     "name": "stdout",
     "output_type": "stream",
     "text": [
      " 0 \n",
      " All data are labled.\n",
      "\n",
      "\n",
      "Using VotingClassifier for  31 unlabled data \n",
      "\n",
      "x_unlabled:  0 \n",
      " All data are labled.\n",
      "\n"
     ]
    },
    {
     "name": "stderr",
     "output_type": "stream",
     "text": [
      "C:\\Users\\user\\Anaconda3\\lib\\site-packages\\sklearn\\preprocessing\\label.py:151: DeprecationWarning: The truth value of an empty array is ambiguous. Returning False, but in future this will result in an error. Use `array.size > 0` to check that an array is not empty.\n",
      "  if diff:\n"
     ]
    },
    {
     "name": "stdout",
     "output_type": "stream",
     "text": [
      "x_unlabled: 0 in 0 iteration   and  threshold:  70.0 \n",
      "\n",
      "Classifiers agree about label for  352 unlabled data\n",
      "58 are still unlabled!\n",
      "\n",
      "Classifiers agree about label for  15 unlabled data\n",
      "43 are still unlabled!\n",
      "\n",
      "Classifiers agree about label for  0 unlabled data\n",
      "43 are still unlabled!\n",
      "\n",
      "\n",
      "Using VotingClassifier for  43 unlabled data \n",
      "\n",
      "x_unlabled:  0 \n",
      " All data are labled.\n",
      "\n"
     ]
    },
    {
     "name": "stderr",
     "output_type": "stream",
     "text": [
      "C:\\Users\\user\\Anaconda3\\lib\\site-packages\\sklearn\\preprocessing\\label.py:151: DeprecationWarning: The truth value of an empty array is ambiguous. Returning False, but in future this will result in an error. Use `array.size > 0` to check that an array is not empty.\n",
      "  if diff:\n"
     ]
    },
    {
     "name": "stdout",
     "output_type": "stream",
     "text": [
      "\n",
      "Using VotingClassifier for  31 unlabled data \n",
      "\n",
      "x_unlabled:  0 \n",
      " All data are labled.\n",
      "\n"
     ]
    },
    {
     "name": "stderr",
     "output_type": "stream",
     "text": [
      "C:\\Users\\user\\Anaconda3\\lib\\site-packages\\sklearn\\preprocessing\\label.py:151: DeprecationWarning: The truth value of an empty array is ambiguous. Returning False, but in future this will result in an error. Use `array.size > 0` to check that an array is not empty.\n",
      "  if diff:\n"
     ]
    },
    {
     "name": "stdout",
     "output_type": "stream",
     "text": [
      "x_unlabled: 0 in 0 iteration   and  threshold:  70.0 \n",
      "\n",
      "Classifiers agree about label for  346 unlabled data\n",
      "64 are still unlabled!\n",
      "\n",
      "Classifiers agree about label for  17 unlabled data\n",
      "47 are still unlabled!\n",
      "\n",
      "Classifiers agree about label for  2 unlabled data\n",
      "45 are still unlabled!\n",
      "\n",
      "Classifiers agree about label for  0 unlabled data\n",
      "45 are still unlabled!\n",
      "\n",
      "\n",
      "Using VotingClassifier for  45 unlabled data \n",
      "\n",
      "x_unlabled:  0 \n",
      " All data are labled.\n",
      "\n"
     ]
    },
    {
     "name": "stderr",
     "output_type": "stream",
     "text": [
      "C:\\Users\\user\\Anaconda3\\lib\\site-packages\\sklearn\\preprocessing\\label.py:151: DeprecationWarning: The truth value of an empty array is ambiguous. Returning False, but in future this will result in an error. Use `array.size > 0` to check that an array is not empty.\n",
      "  if diff:\n"
     ]
    },
    {
     "name": "stdout",
     "output_type": "stream",
     "text": [
      "\n",
      "Using VotingClassifier for  33 unlabled data \n",
      "\n",
      "x_unlabled:  0 \n",
      " All data are labled.\n",
      "\n"
     ]
    },
    {
     "name": "stderr",
     "output_type": "stream",
     "text": [
      "C:\\Users\\user\\Anaconda3\\lib\\site-packages\\sklearn\\preprocessing\\label.py:151: DeprecationWarning: The truth value of an empty array is ambiguous. Returning False, but in future this will result in an error. Use `array.size > 0` to check that an array is not empty.\n",
      "  if diff:\n"
     ]
    },
    {
     "name": "stdout",
     "output_type": "stream",
     "text": [
      "x_unlabled: 0 in 0 iteration   and  threshold:  70.0 \n",
      "\n",
      "Classifiers agree about label for  358 unlabled data\n",
      "52 are still unlabled!\n",
      "\n",
      "Classifiers agree about label for  17 unlabled data\n",
      "35 are still unlabled!\n",
      "\n",
      "Classifiers agree about label for  3 unlabled data\n",
      "32 are still unlabled!\n",
      "\n",
      "Classifiers agree about label for  0 unlabled data\n",
      "32 are still unlabled!\n",
      "\n",
      "\n",
      "Using VotingClassifier for  32 unlabled data \n",
      "\n",
      "x_unlabled:  0 \n",
      " All data are labled.\n",
      "\n"
     ]
    },
    {
     "name": "stderr",
     "output_type": "stream",
     "text": [
      "C:\\Users\\user\\Anaconda3\\lib\\site-packages\\sklearn\\preprocessing\\label.py:151: DeprecationWarning: The truth value of an empty array is ambiguous. Returning False, but in future this will result in an error. Use `array.size > 0` to check that an array is not empty.\n",
      "  if diff:\n"
     ]
    },
    {
     "name": "stdout",
     "output_type": "stream",
     "text": [
      "\n",
      "Using VotingClassifier for  31 unlabled data \n",
      "\n",
      "x_unlabled:  0 \n",
      " All data are labled.\n",
      "\n"
     ]
    },
    {
     "name": "stderr",
     "output_type": "stream",
     "text": [
      "C:\\Users\\user\\Anaconda3\\lib\\site-packages\\sklearn\\preprocessing\\label.py:151: DeprecationWarning: The truth value of an empty array is ambiguous. Returning False, but in future this will result in an error. Use `array.size > 0` to check that an array is not empty.\n",
      "  if diff:\n"
     ]
    },
    {
     "name": "stdout",
     "output_type": "stream",
     "text": [
      "x_unlabled: 0 in 0 iteration   and  threshold:  70.0 \n",
      "\n",
      "Classifiers agree about label for  331 unlabled data\n",
      "79 are still unlabled!\n",
      "\n",
      "Classifiers agree about label for  32 unlabled data\n",
      "47 are still unlabled!\n",
      "\n",
      "Classifiers agree about label for  2 unlabled data\n",
      "45 are still unlabled!\n",
      "\n",
      "Classifiers agree about label for  0 unlabled data\n",
      "45 are still unlabled!\n",
      "\n",
      "\n",
      "Using VotingClassifier for  45 unlabled data \n",
      "\n",
      "x_unlabled:  0 \n",
      " All data are labled.\n",
      "\n"
     ]
    },
    {
     "name": "stderr",
     "output_type": "stream",
     "text": [
      "C:\\Users\\user\\Anaconda3\\lib\\site-packages\\sklearn\\preprocessing\\label.py:151: DeprecationWarning: The truth value of an empty array is ambiguous. Returning False, but in future this will result in an error. Use `array.size > 0` to check that an array is not empty.\n",
      "  if diff:\n"
     ]
    },
    {
     "name": "stdout",
     "output_type": "stream",
     "text": [
      "\n",
      "Using VotingClassifier for  31 unlabled data \n",
      "\n",
      "x_unlabled:  0 \n",
      " All data are labled.\n",
      "\n"
     ]
    },
    {
     "name": "stderr",
     "output_type": "stream",
     "text": [
      "C:\\Users\\user\\Anaconda3\\lib\\site-packages\\sklearn\\preprocessing\\label.py:151: DeprecationWarning: The truth value of an empty array is ambiguous. Returning False, but in future this will result in an error. Use `array.size > 0` to check that an array is not empty.\n",
      "  if diff:\n"
     ]
    },
    {
     "name": "stdout",
     "output_type": "stream",
     "text": [
      "x_unlabled: 0 in 0 iteration   and  threshold:  70.0 \n",
      "\n",
      "Classifiers agree about label for  331 unlabled data\n",
      "79 are still unlabled!\n",
      "\n",
      "Classifiers agree about label for  32 unlabled data\n",
      "47 are still unlabled!\n",
      "\n",
      "Classifiers agree about label for  2 unlabled data\n",
      "45 are still unlabled!\n",
      "\n",
      "Classifiers agree about label for  0 unlabled data\n",
      "45 are still unlabled!\n",
      "\n",
      "\n",
      "Using VotingClassifier for  45 unlabled data \n",
      "\n",
      "x_unlabled:  0 \n",
      " All data are labled.\n",
      "\n"
     ]
    },
    {
     "name": "stderr",
     "output_type": "stream",
     "text": [
      "C:\\Users\\user\\Anaconda3\\lib\\site-packages\\sklearn\\preprocessing\\label.py:151: DeprecationWarning: The truth value of an empty array is ambiguous. Returning False, but in future this will result in an error. Use `array.size > 0` to check that an array is not empty.\n",
      "  if diff:\n"
     ]
    },
    {
     "name": "stdout",
     "output_type": "stream",
     "text": [
      "\n",
      "Using VotingClassifier for  31 unlabled data \n",
      "\n",
      "x_unlabled:  0 \n",
      " All data are labled.\n",
      "\n"
     ]
    },
    {
     "name": "stderr",
     "output_type": "stream",
     "text": [
      "C:\\Users\\user\\Anaconda3\\lib\\site-packages\\sklearn\\preprocessing\\label.py:151: DeprecationWarning: The truth value of an empty array is ambiguous. Returning False, but in future this will result in an error. Use `array.size > 0` to check that an array is not empty.\n",
      "  if diff:\n"
     ]
    },
    {
     "name": "stdout",
     "output_type": "stream",
     "text": [
      "x_unlabled: 0 in 0 iteration   and  threshold:  70.0 \n",
      "\n",
      "Classifiers agree about label for  342 unlabled data\n",
      "68 are still unlabled!\n",
      "\n",
      "Classifiers agree about label for  20 unlabled data\n",
      "48 are still unlabled!\n",
      "\n",
      "Classifiers agree about label for  2 unlabled data\n",
      "46 are still unlabled!\n",
      "\n",
      "Classifiers agree about label for  0 unlabled data\n",
      "46 are still unlabled!\n",
      "\n",
      "\n",
      "Using VotingClassifier for  46 unlabled data \n",
      "\n",
      "x_unlabled:  0 \n",
      " All data are labled.\n",
      "\n"
     ]
    },
    {
     "name": "stderr",
     "output_type": "stream",
     "text": [
      "C:\\Users\\user\\Anaconda3\\lib\\site-packages\\sklearn\\preprocessing\\label.py:151: DeprecationWarning: The truth value of an empty array is ambiguous. Returning False, but in future this will result in an error. Use `array.size > 0` to check that an array is not empty.\n",
      "  if diff:\n"
     ]
    },
    {
     "name": "stdout",
     "output_type": "stream",
     "text": [
      "\n",
      "Using VotingClassifier for  31 unlabled data \n",
      "\n",
      "x_unlabled:  0 \n",
      " All data are labled.\n",
      "\n"
     ]
    },
    {
     "name": "stderr",
     "output_type": "stream",
     "text": [
      "C:\\Users\\user\\Anaconda3\\lib\\site-packages\\sklearn\\preprocessing\\label.py:151: DeprecationWarning: The truth value of an empty array is ambiguous. Returning False, but in future this will result in an error. Use `array.size > 0` to check that an array is not empty.\n",
      "  if diff:\n"
     ]
    },
    {
     "name": "stdout",
     "output_type": "stream",
     "text": [
      "x_unlabled: 0 in 0 iteration   and  threshold:  70.0 \n",
      "\n",
      "Classifiers agree about label for  353 unlabled data\n",
      "57 are still unlabled!\n",
      "\n",
      "Classifiers agree about label for  10 unlabled data\n",
      "47 are still unlabled!\n",
      "\n",
      "Classifiers agree about label for  2 unlabled data\n",
      "45 are still unlabled!\n",
      "\n",
      "Classifiers agree about label for  0 unlabled data\n",
      "45 are still unlabled!\n",
      "\n",
      "\n",
      "Using VotingClassifier for  45 unlabled data \n",
      "\n",
      "x_unlabled:  0 \n",
      " All data are labled.\n",
      "\n"
     ]
    },
    {
     "name": "stderr",
     "output_type": "stream",
     "text": [
      "C:\\Users\\user\\Anaconda3\\lib\\site-packages\\sklearn\\preprocessing\\label.py:151: DeprecationWarning: The truth value of an empty array is ambiguous. Returning False, but in future this will result in an error. Use `array.size > 0` to check that an array is not empty.\n",
      "  if diff:\n"
     ]
    },
    {
     "name": "stdout",
     "output_type": "stream",
     "text": [
      "\n",
      "Using VotingClassifier for  31 unlabled data \n",
      "\n",
      "x_unlabled:  0 \n",
      " All data are labled.\n",
      "\n"
     ]
    },
    {
     "name": "stderr",
     "output_type": "stream",
     "text": [
      "C:\\Users\\user\\Anaconda3\\lib\\site-packages\\sklearn\\preprocessing\\label.py:151: DeprecationWarning: The truth value of an empty array is ambiguous. Returning False, but in future this will result in an error. Use `array.size > 0` to check that an array is not empty.\n",
      "  if diff:\n"
     ]
    },
    {
     "name": "stdout",
     "output_type": "stream",
     "text": [
      "x_unlabled: 0 in 0 iteration   and  threshold:  70.0 \n",
      "\n",
      "Classifiers agree about label for  341 unlabled data\n",
      "69 are still unlabled!\n",
      "\n",
      "Classifiers agree about label for  21 unlabled data\n",
      "48 are still unlabled!\n",
      "\n",
      "Classifiers agree about label for  3 unlabled data\n",
      "45 are still unlabled!\n",
      "\n",
      "Classifiers agree about label for  0 unlabled data\n",
      "45 are still unlabled!\n",
      "\n",
      "\n",
      "Using VotingClassifier for  45 unlabled data \n",
      "\n",
      "x_unlabled:  0 \n",
      " All data are labled.\n",
      "\n"
     ]
    },
    {
     "name": "stderr",
     "output_type": "stream",
     "text": [
      "C:\\Users\\user\\Anaconda3\\lib\\site-packages\\sklearn\\preprocessing\\label.py:151: DeprecationWarning: The truth value of an empty array is ambiguous. Returning False, but in future this will result in an error. Use `array.size > 0` to check that an array is not empty.\n",
      "  if diff:\n"
     ]
    },
    {
     "name": "stdout",
     "output_type": "stream",
     "text": [
      "\n",
      "Using VotingClassifier for  31 unlabled data \n",
      "\n",
      "x_unlabled:  0 \n",
      " All data are labled.\n",
      "\n"
     ]
    },
    {
     "name": "stderr",
     "output_type": "stream",
     "text": [
      "C:\\Users\\user\\Anaconda3\\lib\\site-packages\\sklearn\\preprocessing\\label.py:151: DeprecationWarning: The truth value of an empty array is ambiguous. Returning False, but in future this will result in an error. Use `array.size > 0` to check that an array is not empty.\n",
      "  if diff:\n"
     ]
    },
    {
     "name": "stdout",
     "output_type": "stream",
     "text": [
      "x_unlabled: 0 in 0 iteration   and  threshold:  70.0 \n",
      "\n",
      "Classifiers agree about label for  352 unlabled data\n",
      "58 are still unlabled!\n",
      "\n",
      "Classifiers agree about label for  15 unlabled data\n",
      "43 are still unlabled!\n",
      "\n",
      "Classifiers agree about label for  0 unlabled data\n",
      "43 are still unlabled!\n",
      "\n",
      "\n",
      "Using VotingClassifier for  43 unlabled data \n",
      "\n",
      "x_unlabled:  0 \n",
      " All data are labled.\n",
      "\n"
     ]
    },
    {
     "name": "stderr",
     "output_type": "stream",
     "text": [
      "C:\\Users\\user\\Anaconda3\\lib\\site-packages\\sklearn\\preprocessing\\label.py:151: DeprecationWarning: The truth value of an empty array is ambiguous. Returning False, but in future this will result in an error. Use `array.size > 0` to check that an array is not empty.\n",
      "  if diff:\n"
     ]
    },
    {
     "name": "stdout",
     "output_type": "stream",
     "text": [
      "\n",
      "Using VotingClassifier for  31 unlabled data \n",
      "\n",
      "x_unlabled:  0 \n",
      " All data are labled.\n",
      "\n"
     ]
    },
    {
     "name": "stderr",
     "output_type": "stream",
     "text": [
      "C:\\Users\\user\\Anaconda3\\lib\\site-packages\\sklearn\\preprocessing\\label.py:151: DeprecationWarning: The truth value of an empty array is ambiguous. Returning False, but in future this will result in an error. Use `array.size > 0` to check that an array is not empty.\n",
      "  if diff:\n"
     ]
    }
   ],
   "source": [
    "################### save to excel ############################\n",
    "\n",
    "\n",
    "d = pd.DataFrame(columns = col_names)\n",
    "super_score_array, semi_score_array, self_score_array, self_ensemble_score_array, kb_self_ensemble_score_array = [], [], [], [], []\n",
    "for i in range(10):\n",
    "    super_score, semi_score, self_score, self_ensemble_score, kb_self_ensemble_score = main_k_batch(breast_cancer,KNeighborsClassifier,GaussianNB,tree.DecisionTreeClassifier,KNeighborsClassifier)\n",
    "   \n",
    "    super_score_array = np.append(super_score_array,super_score)\n",
    "    semi_score_array = np.append(semi_score_array,semi_score)\n",
    "    self_score_array = np.append(self_score_array,self_score)\n",
    "    self_ensemble_score_array = np.append(self_ensemble_score_array,self_ensemble_score)\n",
    "    kb_self_ensemble_score_array = np.append(kb_self_ensemble_score_array,kb_self_ensemble_score)\n",
    "    \n",
    "d = {'super':super_score_array, 'semi':semi_score_array,'self':self_score_array, 'self_ensemble':self_ensemble_score_array, 'kb_self_ensemble':kb_self_ensemble_score_array}\n",
    "df1 = pd.DataFrame(data=d)\n",
    "\n",
    "d = pd.DataFrame(columns = col_names)\n",
    "super_score_array, semi_score_array, self_score_array, self_ensemble_score_array, kb_self_ensemble_score_array = [], [], [], [], []\n",
    "for i in range(10):\n",
    "    super_score, semi_score, self_score, self_ensemble_score, kb_self_ensemble_score = main_k_batch(breast_cancer,GaussianNB,GaussianNB,tree.DecisionTreeClassifier,KNeighborsClassifier)\n",
    "   \n",
    "    super_score_array = np.append(super_score_array,super_score)\n",
    "    semi_score_array = np.append(semi_score_array,semi_score)\n",
    "    self_score_array = np.append(self_score_array,self_score)\n",
    "    self_ensemble_score_array = np.append(self_ensemble_score_array,self_ensemble_score)\n",
    "    kb_self_ensemble_score_array = np.append(kb_self_ensemble_score_array,kb_self_ensemble_score)\n",
    "    \n",
    "d = {'super':super_score_array, 'semi':semi_score_array,'self':self_score_array, 'self_ensemble':self_ensemble_score_array, 'kb_self_ensemble':kb_self_ensemble_score_array}\n",
    "df2 = pd.DataFrame(data=d)\n",
    "\n",
    "\n",
    "d = pd.DataFrame(columns = col_names)\n",
    "super_score_array, semi_score_array, self_score_array, self_ensemble_score_array, kb_self_ensemble_score_array = [], [], [], [], []\n",
    "for i in range(10):\n",
    "    super_score, semi_score, self_score, self_ensemble_score, kb_self_ensemble_score = main_k_batch(breast_cancer,tree.DecisionTreeClassifier,GaussianNB,tree.DecisionTreeClassifier,KNeighborsClassifier)\n",
    "   \n",
    "    super_score_array = np.append(super_score_array,super_score)\n",
    "    semi_score_array = np.append(semi_score_array,semi_score)\n",
    "    self_score_array = np.append(self_score_array,self_score)\n",
    "    self_ensemble_score_array = np.append(self_ensemble_score_array,self_ensemble_score)\n",
    "    kb_self_ensemble_score_array = np.append(kb_self_ensemble_score_array,kb_self_ensemble_score)\n",
    "    \n",
    "d = {'super':super_score_array, 'semi':semi_score_array,'self':self_score_array, 'self_ensemble':self_ensemble_score_array, 'kb_self_ensemble':kb_self_ensemble_score_array}\n",
    "df3 = pd.DataFrame(data=d)\n",
    "\n",
    "with pd.ExcelWriter('output_iris2.xlsx') as writer:  # doctest: +SKIP\n",
    "    df1.to_excel(writer, sheet_name='KNN')\n",
    "    df2.to_excel(writer, sheet_name='NB')\n",
    "    df3.to_excel(writer, sheet_name='DT')"
   ]
  },
  {
   "cell_type": "code",
   "execution_count": null,
   "metadata": {},
   "outputs": [],
   "source": []
  }
 ],
 "metadata": {
  "kernelspec": {
   "display_name": "Python 3",
   "language": "python",
   "name": "python3"
  },
  "language_info": {
   "codemirror_mode": {
    "name": "ipython",
    "version": 3
   },
   "file_extension": ".py",
   "mimetype": "text/x-python",
   "name": "python",
   "nbconvert_exporter": "python",
   "pygments_lexer": "ipython3",
   "version": "3.7.1"
  }
 },
 "nbformat": 4,
 "nbformat_minor": 2
}
